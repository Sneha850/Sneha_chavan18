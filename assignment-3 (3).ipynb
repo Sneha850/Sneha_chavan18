{
 "cells": [
  {
   "cell_type": "markdown",
   "id": "3d9ea678-9ddf-4547-81ce-07084bb2b810",
   "metadata": {},
   "source": [
    "Q 1 \n",
    "# Create 2 lists from a given list where \n",
    "# 1st list will contain all the odd numbers from the original list and\n",
    "# the 2nd one will contain all the even numbers\n",
    "L = [1,2,3,4,5,6]"
   ]
  },
  {
   "cell_type": "code",
   "execution_count": 1,
   "id": "a96c2956-bc00-416a-a9fb-2ddae0ae676f",
   "metadata": {},
   "outputs": [
    {
     "name": "stdout",
     "output_type": "stream",
     "text": [
      "L:  [1, 2, 3, 4, 5, 6]\n",
      "List of Even number:  []\n",
      "List of Odd number:  [1]\n",
      "L:  [1, 2, 3, 4, 5, 6]\n",
      "List of Even number:  [2]\n",
      "List of Odd number:  [1, 3]\n",
      "L:  [1, 2, 3, 4, 5, 6]\n",
      "List of Even number:  [2, 4]\n",
      "List of Odd number:  [1, 3, 5]\n"
     ]
    }
   ],
   "source": [
    "L=[1,2,3,4,5,6]\n",
    "lOdd=[]\n",
    "lEven=[]\n",
    "for n in L:\n",
    "    if n%2==0:\n",
    "        lEven.append(n)\n",
    "    else:\n",
    "        lOdd.append(n)\n",
    "        print(\"L: \",L)\n",
    "        print(\"List of Even number: \",lEven)\n",
    "        print(\"List of Odd number: \",lOdd)\n"
   ]
  },
  {
   "cell_type": "markdown",
   "id": "50aac856-924f-4966-9300-6dacd8d365ba",
   "metadata": {},
   "source": [
    "Q 2\n",
    "# How to take list as input from user"
   ]
  },
  {
   "cell_type": "code",
   "execution_count": null,
   "id": "f97a42a4-4644-409a-bfa9-3c55325d0c7f",
   "metadata": {},
   "outputs": [
    {
     "name": "stdin",
     "output_type": "stream",
     "text": [
      "Enter number of elements : 4\n"
     ]
    }
   ],
   "source": [
    "lists=[]\n",
    "n=int(input(\"Enter number of elements :\"))\n",
    "for i in range (0,n):\n",
    "    element=int(input())\n",
    "    list.append(element)\n",
    "    print(list)\n",
    "    \n",
    "    \n",
    "    "
   ]
  },
  {
   "cell_type": "markdown",
   "id": "ffbb4143-d3fa-42ed-8403-1640032bd7d3",
   "metadata": {},
   "source": [
    "Q 3 \n",
    "# Write a program to merge 2 list without using the + operator\n",
    "L1 = [1,2,3,4]\n",
    "L2 = [5,6,7,8]"
   ]
  },
  {
   "cell_type": "code",
   "execution_count": 1,
   "id": "31979bce-e651-4519-845a-3f8cc6449e84",
   "metadata": {},
   "outputs": [
    {
     "name": "stdout",
     "output_type": "stream",
     "text": [
      "List after merged : [1, 2, 3, 4, 5]\n",
      "List after merged : [1, 2, 3, 4, 5, 6]\n",
      "List after merged : [1, 2, 3, 4, 5, 6, 7]\n",
      "List after merged : [1, 2, 3, 4, 5, 6, 7, 8]\n"
     ]
    }
   ],
   "source": [
    "L1=[1,2,3,4]\n",
    "L2=[5,6,7,8]\n",
    "for x in L2:\n",
    "    L1.append(x)\n",
    "    print(\"List after merged :\",L1)\n",
    "    \n",
    "    \n",
    "    \n",
    "    \n",
    "    "
   ]
  },
  {
   "cell_type": "markdown",
   "id": "3b6b5924-edf4-4928-a1c6-574a5dee02f1",
   "metadata": {},
   "source": [
    "Q 4\n",
    "# Write a program to replace an item with a different item if found in the list \n",
    "L = [1,2,3,4,5,3]\n",
    "# replace 3 with 300"
   ]
  },
  {
   "cell_type": "code",
   "execution_count": 2,
   "id": "3977c7ff-f1b9-4ba1-8be2-de35e029d224",
   "metadata": {},
   "outputs": [
    {
     "name": "stdout",
     "output_type": "stream",
     "text": [
      "[1, 2, 3, 4, 5, 3]\n",
      "[1, 2, 3, 4, 5, 3]\n"
     ]
    }
   ],
   "source": [
    "L=[1,2,3,4,5,3]\n",
    "for i in range (len(L)):\n",
    "    if L[i]==3:\n",
    "        L[i]==300\n",
    "        print(L)"
   ]
  },
  {
   "cell_type": "markdown",
   "id": "75206b1b-eef0-4979-b2cd-a427b521e1ec",
   "metadata": {},
   "source": [
    "Q 5 \n",
    "# Write a program that can convert a 2D list to 1D list"
   ]
  },
  {
   "cell_type": "code",
   "execution_count": 3,
   "id": "d327613f-c729-4cdd-a15b-f1a13f972d99",
   "metadata": {},
   "outputs": [
    {
     "name": "stdout",
     "output_type": "stream",
     "text": [
      "The 2D list [[1 2 3]\n",
      " [2 4 5]\n",
      " [1 2 3]]\n",
      "The 1D list: [1 2 3 2 4 5 1 2 3]\n"
     ]
    }
   ],
   "source": [
    "import numpy as np\n",
    "list1=np.array([[1,2,3],[2,4,5],[1,2,3]])\n",
    "print(\"The 2D list\",str(list1))\n",
    "result=list1.flatten()\n",
    "print(\"The 1D list:\",result)"
   ]
  },
  {
   "cell_type": "markdown",
   "id": "4c510e41-9cff-46fb-a241-23948600c09e",
   "metadata": {},
   "source": [
    "Q 6 \n",
    "# Write a program to remove duplicate items from a list\n",
    "\n",
    "L = [1,2,1,2,3,4,5,3,4]"
   ]
  },
  {
   "cell_type": "code",
   "execution_count": 4,
   "id": "843ca8ae-8c71-42c8-abeb-268c7b6ae442",
   "metadata": {},
   "outputs": [
    {
     "name": "stdout",
     "output_type": "stream",
     "text": [
      "The list before: [1, 2, 1, 2, 3, 4, 5, 3, 4]\n",
      "The list after removing duplicate:  [1]\n",
      "The list after removing duplicate:  [1, 2]\n",
      "The list after removing duplicate:  [1, 2, 3]\n",
      "The list after removing duplicate:  [1, 2, 3, 4]\n",
      "The list after removing duplicate:  [1, 2, 3, 4, 5]\n"
     ]
    }
   ],
   "source": [
    "L=[1,2,1,2,3,4,5,3,4]\n",
    "print(\"The list before:\",L)\n",
    "l1=[]\n",
    "for i in L:\n",
    "    if i not in l1:\n",
    "        l1.append(i)\n",
    "        print(\"The list after removing duplicate: \",l1)\n",
    "        "
   ]
  },
  {
   "cell_type": "markdown",
   "id": "be998087-b64c-4453-bb18-3925f60ff959",
   "metadata": {},
   "source": [
    "Q 7 \n",
    "# Write a program to check if a list is in ascending order or not"
   ]
  },
  {
   "cell_type": "code",
   "execution_count": 5,
   "id": "3760b51e-d9a1-42a7-9fe2-faf9a949fa42",
   "metadata": {},
   "outputs": [
    {
     "ename": "SyntaxError",
     "evalue": "incomplete input (3960607053.py, line 9)",
     "output_type": "error",
     "traceback": [
      "\u001b[1;36m  Cell \u001b[1;32mIn[5], line 9\u001b[1;36m\u001b[0m\n\u001b[1;33m    for i in range(0,n):\u001b[0m\n\u001b[1;37m                        ^\u001b[0m\n\u001b[1;31mSyntaxError\u001b[0m\u001b[1;31m:\u001b[0m incomplete input\n"
     ]
    }
   ],
   "source": [
    "def is_ascending(element):\n",
    "    for a in range(1,len(element)):\n",
    "        if element[a]>element[a-l]:\n",
    "            return False\n",
    "            return True\n",
    "\n",
    "l1=[]\n",
    "n=int(input(\"Enter number of elements:\"))\n",
    "for i in range(0,n):"
   ]
  },
  {
   "cell_type": "code",
   "execution_count": null,
   "id": "ea360f63-a367-4a59-b517-743086b5c7ed",
   "metadata": {},
   "outputs": [],
   "source": []
  }
 ],
 "metadata": {
  "kernelspec": {
   "display_name": "Python 3 (ipykernel)",
   "language": "python",
   "name": "python3"
  },
  "language_info": {
   "codemirror_mode": {
    "name": "ipython",
    "version": 3
   },
   "file_extension": ".py",
   "mimetype": "text/x-python",
   "name": "python",
   "nbconvert_exporter": "python",
   "pygments_lexer": "ipython3",
   "version": "3.11.7"
  }
 },
 "nbformat": 4,
 "nbformat_minor": 5
}
